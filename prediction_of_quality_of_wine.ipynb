{
  "metadata": {
    "language_info": {
      "name": "python",
      "mimetype": "text/x-python",
      "file_extension": ".py",
      "nbconvert_exporter": "python",
      "version": "3.6.4",
      "codemirror_mode": {
        "name": "ipython",
        "version": 3
      },
      "pygments_lexer": "ipython3"
    },
    "kernelspec": {
      "name": "python3",
      "language": "python",
      "display_name": "Python 3"
    },
    "colab": {
      "provenance": []
    }
  },
  "nbformat": 4,
  "nbformat_minor": 0,
  "cells": [
    {
      "metadata": {
        "_cell_guid": "87c7b371-53b1-4d4d-bfbd-373d2b84b33a",
        "collapsed": true,
        "_uuid": "da5343fb3f6b3942909c94bf8e2add04fd3ff1a3",
        "id": "qEIEb_DIeJ2G"
      },
      "outputs": [],
      "execution_count": 1,
      "cell_type": "code",
      "source": [
        "#Importing required packages.\n",
        "import pandas as pd\n",
        "import seaborn as sns\n",
        "import matplotlib.pyplot as plt\n",
        "from sklearn.ensemble import RandomForestClassifier\n",
        "from sklearn.svm import SVC\n",
        "from sklearn.linear_model import SGDClassifier\n",
        "from sklearn.metrics import confusion_matrix, classification_report\n",
        "from sklearn.preprocessing import StandardScaler, LabelEncoder\n",
        "from sklearn.model_selection import train_test_split, GridSearchCV, cross_val_score\n",
        "%matplotlib inline"
      ]
    },
    {
      "metadata": {
        "_cell_guid": "800f9ff4-79bf-4785-9569-23e1d9b9b03b",
        "collapsed": true,
        "_uuid": "07c8409e4eccd80507d9846e8cc70ea42e58cbe6",
        "id": "QYi3VXkqeJ2I"
      },
      "outputs": [],
      "execution_count": 2,
      "cell_type": "code",
      "source": [
        "#Loading dataset\n",
        "wine = pd.read_csv('/content/winequality-red.csv')"
      ]
    },
    {
      "metadata": {
        "_cell_guid": "019cbcee-6cb2-478c-922b-ccebe4962769",
        "_uuid": "45ff42953e9082cd55612a4774408cc97a05fb11",
        "colab": {
          "base_uri": "https://localhost:8080/",
          "height": 206
        },
        "id": "-zEj6fxOeJ2J",
        "outputId": "efe9ae13-98da-440d-9422-5d11eae95a36"
      },
      "outputs": [
        {
          "output_type": "execute_result",
          "data": {
            "text/plain": [
              "   fixed acidity  volatile acidity  citric acid  residual sugar  chlorides  \\\n",
              "0            7.4              0.70         0.00             1.9      0.076   \n",
              "1            7.8              0.88         0.00             2.6      0.098   \n",
              "2            7.8              0.76         0.04             2.3      0.092   \n",
              "3           11.2              0.28         0.56             1.9      0.075   \n",
              "4            7.4              0.70         0.00             1.9      0.076   \n",
              "\n",
              "   free sulfur dioxide  total sulfur dioxide  density    pH  sulphates  \\\n",
              "0                 11.0                  34.0   0.9978  3.51       0.56   \n",
              "1                 25.0                  67.0   0.9968  3.20       0.68   \n",
              "2                 15.0                  54.0   0.9970  3.26       0.65   \n",
              "3                 17.0                  60.0   0.9980  3.16       0.58   \n",
              "4                 11.0                  34.0   0.9978  3.51       0.56   \n",
              "\n",
              "   alcohol  quality  \n",
              "0      9.4        5  \n",
              "1      9.8        5  \n",
              "2      9.8        5  \n",
              "3      9.8        6  \n",
              "4      9.4        5  "
            ],
            "text/html": [
              "\n",
              "  <div id=\"df-bac9cdcf-4e3d-4c88-8bc6-49388d9c12fd\" class=\"colab-df-container\">\n",
              "    <div>\n",
              "<style scoped>\n",
              "    .dataframe tbody tr th:only-of-type {\n",
              "        vertical-align: middle;\n",
              "    }\n",
              "\n",
              "    .dataframe tbody tr th {\n",
              "        vertical-align: top;\n",
              "    }\n",
              "\n",
              "    .dataframe thead th {\n",
              "        text-align: right;\n",
              "    }\n",
              "</style>\n",
              "<table border=\"1\" class=\"dataframe\">\n",
              "  <thead>\n",
              "    <tr style=\"text-align: right;\">\n",
              "      <th></th>\n",
              "      <th>fixed acidity</th>\n",
              "      <th>volatile acidity</th>\n",
              "      <th>citric acid</th>\n",
              "      <th>residual sugar</th>\n",
              "      <th>chlorides</th>\n",
              "      <th>free sulfur dioxide</th>\n",
              "      <th>total sulfur dioxide</th>\n",
              "      <th>density</th>\n",
              "      <th>pH</th>\n",
              "      <th>sulphates</th>\n",
              "      <th>alcohol</th>\n",
              "      <th>quality</th>\n",
              "    </tr>\n",
              "  </thead>\n",
              "  <tbody>\n",
              "    <tr>\n",
              "      <th>0</th>\n",
              "      <td>7.4</td>\n",
              "      <td>0.70</td>\n",
              "      <td>0.00</td>\n",
              "      <td>1.9</td>\n",
              "      <td>0.076</td>\n",
              "      <td>11.0</td>\n",
              "      <td>34.0</td>\n",
              "      <td>0.9978</td>\n",
              "      <td>3.51</td>\n",
              "      <td>0.56</td>\n",
              "      <td>9.4</td>\n",
              "      <td>5</td>\n",
              "    </tr>\n",
              "    <tr>\n",
              "      <th>1</th>\n",
              "      <td>7.8</td>\n",
              "      <td>0.88</td>\n",
              "      <td>0.00</td>\n",
              "      <td>2.6</td>\n",
              "      <td>0.098</td>\n",
              "      <td>25.0</td>\n",
              "      <td>67.0</td>\n",
              "      <td>0.9968</td>\n",
              "      <td>3.20</td>\n",
              "      <td>0.68</td>\n",
              "      <td>9.8</td>\n",
              "      <td>5</td>\n",
              "    </tr>\n",
              "    <tr>\n",
              "      <th>2</th>\n",
              "      <td>7.8</td>\n",
              "      <td>0.76</td>\n",
              "      <td>0.04</td>\n",
              "      <td>2.3</td>\n",
              "      <td>0.092</td>\n",
              "      <td>15.0</td>\n",
              "      <td>54.0</td>\n",
              "      <td>0.9970</td>\n",
              "      <td>3.26</td>\n",
              "      <td>0.65</td>\n",
              "      <td>9.8</td>\n",
              "      <td>5</td>\n",
              "    </tr>\n",
              "    <tr>\n",
              "      <th>3</th>\n",
              "      <td>11.2</td>\n",
              "      <td>0.28</td>\n",
              "      <td>0.56</td>\n",
              "      <td>1.9</td>\n",
              "      <td>0.075</td>\n",
              "      <td>17.0</td>\n",
              "      <td>60.0</td>\n",
              "      <td>0.9980</td>\n",
              "      <td>3.16</td>\n",
              "      <td>0.58</td>\n",
              "      <td>9.8</td>\n",
              "      <td>6</td>\n",
              "    </tr>\n",
              "    <tr>\n",
              "      <th>4</th>\n",
              "      <td>7.4</td>\n",
              "      <td>0.70</td>\n",
              "      <td>0.00</td>\n",
              "      <td>1.9</td>\n",
              "      <td>0.076</td>\n",
              "      <td>11.0</td>\n",
              "      <td>34.0</td>\n",
              "      <td>0.9978</td>\n",
              "      <td>3.51</td>\n",
              "      <td>0.56</td>\n",
              "      <td>9.4</td>\n",
              "      <td>5</td>\n",
              "    </tr>\n",
              "  </tbody>\n",
              "</table>\n",
              "</div>\n",
              "    <div class=\"colab-df-buttons\">\n",
              "\n",
              "  <div class=\"colab-df-container\">\n",
              "    <button class=\"colab-df-convert\" onclick=\"convertToInteractive('df-bac9cdcf-4e3d-4c88-8bc6-49388d9c12fd')\"\n",
              "            title=\"Convert this dataframe to an interactive table.\"\n",
              "            style=\"display:none;\">\n",
              "\n",
              "  <svg xmlns=\"http://www.w3.org/2000/svg\" height=\"24px\" viewBox=\"0 -960 960 960\">\n",
              "    <path d=\"M120-120v-720h720v720H120Zm60-500h600v-160H180v160Zm220 220h160v-160H400v160Zm0 220h160v-160H400v160ZM180-400h160v-160H180v160Zm440 0h160v-160H620v160ZM180-180h160v-160H180v160Zm440 0h160v-160H620v160Z\"/>\n",
              "  </svg>\n",
              "    </button>\n",
              "\n",
              "  <style>\n",
              "    .colab-df-container {\n",
              "      display:flex;\n",
              "      gap: 12px;\n",
              "    }\n",
              "\n",
              "    .colab-df-convert {\n",
              "      background-color: #E8F0FE;\n",
              "      border: none;\n",
              "      border-radius: 50%;\n",
              "      cursor: pointer;\n",
              "      display: none;\n",
              "      fill: #1967D2;\n",
              "      height: 32px;\n",
              "      padding: 0 0 0 0;\n",
              "      width: 32px;\n",
              "    }\n",
              "\n",
              "    .colab-df-convert:hover {\n",
              "      background-color: #E2EBFA;\n",
              "      box-shadow: 0px 1px 2px rgba(60, 64, 67, 0.3), 0px 1px 3px 1px rgba(60, 64, 67, 0.15);\n",
              "      fill: #174EA6;\n",
              "    }\n",
              "\n",
              "    .colab-df-buttons div {\n",
              "      margin-bottom: 4px;\n",
              "    }\n",
              "\n",
              "    [theme=dark] .colab-df-convert {\n",
              "      background-color: #3B4455;\n",
              "      fill: #D2E3FC;\n",
              "    }\n",
              "\n",
              "    [theme=dark] .colab-df-convert:hover {\n",
              "      background-color: #434B5C;\n",
              "      box-shadow: 0px 1px 3px 1px rgba(0, 0, 0, 0.15);\n",
              "      filter: drop-shadow(0px 1px 2px rgba(0, 0, 0, 0.3));\n",
              "      fill: #FFFFFF;\n",
              "    }\n",
              "  </style>\n",
              "\n",
              "    <script>\n",
              "      const buttonEl =\n",
              "        document.querySelector('#df-bac9cdcf-4e3d-4c88-8bc6-49388d9c12fd button.colab-df-convert');\n",
              "      buttonEl.style.display =\n",
              "        google.colab.kernel.accessAllowed ? 'block' : 'none';\n",
              "\n",
              "      async function convertToInteractive(key) {\n",
              "        const element = document.querySelector('#df-bac9cdcf-4e3d-4c88-8bc6-49388d9c12fd');\n",
              "        const dataTable =\n",
              "          await google.colab.kernel.invokeFunction('convertToInteractive',\n",
              "                                                    [key], {});\n",
              "        if (!dataTable) return;\n",
              "\n",
              "        const docLinkHtml = 'Like what you see? Visit the ' +\n",
              "          '<a target=\"_blank\" href=https://colab.research.google.com/notebooks/data_table.ipynb>data table notebook</a>'\n",
              "          + ' to learn more about interactive tables.';\n",
              "        element.innerHTML = '';\n",
              "        dataTable['output_type'] = 'display_data';\n",
              "        await google.colab.output.renderOutput(dataTable, element);\n",
              "        const docLink = document.createElement('div');\n",
              "        docLink.innerHTML = docLinkHtml;\n",
              "        element.appendChild(docLink);\n",
              "      }\n",
              "    </script>\n",
              "  </div>\n",
              "\n",
              "\n",
              "<div id=\"df-9e0ab4c0-f192-4ba3-9281-c2d53d983524\">\n",
              "  <button class=\"colab-df-quickchart\" onclick=\"quickchart('df-9e0ab4c0-f192-4ba3-9281-c2d53d983524')\"\n",
              "            title=\"Suggest charts.\"\n",
              "            style=\"display:none;\">\n",
              "\n",
              "<svg xmlns=\"http://www.w3.org/2000/svg\" height=\"24px\"viewBox=\"0 0 24 24\"\n",
              "     width=\"24px\">\n",
              "    <g>\n",
              "        <path d=\"M19 3H5c-1.1 0-2 .9-2 2v14c0 1.1.9 2 2 2h14c1.1 0 2-.9 2-2V5c0-1.1-.9-2-2-2zM9 17H7v-7h2v7zm4 0h-2V7h2v10zm4 0h-2v-4h2v4z\"/>\n",
              "    </g>\n",
              "</svg>\n",
              "  </button>\n",
              "\n",
              "<style>\n",
              "  .colab-df-quickchart {\n",
              "      --bg-color: #E8F0FE;\n",
              "      --fill-color: #1967D2;\n",
              "      --hover-bg-color: #E2EBFA;\n",
              "      --hover-fill-color: #174EA6;\n",
              "      --disabled-fill-color: #AAA;\n",
              "      --disabled-bg-color: #DDD;\n",
              "  }\n",
              "\n",
              "  [theme=dark] .colab-df-quickchart {\n",
              "      --bg-color: #3B4455;\n",
              "      --fill-color: #D2E3FC;\n",
              "      --hover-bg-color: #434B5C;\n",
              "      --hover-fill-color: #FFFFFF;\n",
              "      --disabled-bg-color: #3B4455;\n",
              "      --disabled-fill-color: #666;\n",
              "  }\n",
              "\n",
              "  .colab-df-quickchart {\n",
              "    background-color: var(--bg-color);\n",
              "    border: none;\n",
              "    border-radius: 50%;\n",
              "    cursor: pointer;\n",
              "    display: none;\n",
              "    fill: var(--fill-color);\n",
              "    height: 32px;\n",
              "    padding: 0;\n",
              "    width: 32px;\n",
              "  }\n",
              "\n",
              "  .colab-df-quickchart:hover {\n",
              "    background-color: var(--hover-bg-color);\n",
              "    box-shadow: 0 1px 2px rgba(60, 64, 67, 0.3), 0 1px 3px 1px rgba(60, 64, 67, 0.15);\n",
              "    fill: var(--button-hover-fill-color);\n",
              "  }\n",
              "\n",
              "  .colab-df-quickchart-complete:disabled,\n",
              "  .colab-df-quickchart-complete:disabled:hover {\n",
              "    background-color: var(--disabled-bg-color);\n",
              "    fill: var(--disabled-fill-color);\n",
              "    box-shadow: none;\n",
              "  }\n",
              "\n",
              "  .colab-df-spinner {\n",
              "    border: 2px solid var(--fill-color);\n",
              "    border-color: transparent;\n",
              "    border-bottom-color: var(--fill-color);\n",
              "    animation:\n",
              "      spin 1s steps(1) infinite;\n",
              "  }\n",
              "\n",
              "  @keyframes spin {\n",
              "    0% {\n",
              "      border-color: transparent;\n",
              "      border-bottom-color: var(--fill-color);\n",
              "      border-left-color: var(--fill-color);\n",
              "    }\n",
              "    20% {\n",
              "      border-color: transparent;\n",
              "      border-left-color: var(--fill-color);\n",
              "      border-top-color: var(--fill-color);\n",
              "    }\n",
              "    30% {\n",
              "      border-color: transparent;\n",
              "      border-left-color: var(--fill-color);\n",
              "      border-top-color: var(--fill-color);\n",
              "      border-right-color: var(--fill-color);\n",
              "    }\n",
              "    40% {\n",
              "      border-color: transparent;\n",
              "      border-right-color: var(--fill-color);\n",
              "      border-top-color: var(--fill-color);\n",
              "    }\n",
              "    60% {\n",
              "      border-color: transparent;\n",
              "      border-right-color: var(--fill-color);\n",
              "    }\n",
              "    80% {\n",
              "      border-color: transparent;\n",
              "      border-right-color: var(--fill-color);\n",
              "      border-bottom-color: var(--fill-color);\n",
              "    }\n",
              "    90% {\n",
              "      border-color: transparent;\n",
              "      border-bottom-color: var(--fill-color);\n",
              "    }\n",
              "  }\n",
              "</style>\n",
              "\n",
              "  <script>\n",
              "    async function quickchart(key) {\n",
              "      const quickchartButtonEl =\n",
              "        document.querySelector('#' + key + ' button');\n",
              "      quickchartButtonEl.disabled = true;  // To prevent multiple clicks.\n",
              "      quickchartButtonEl.classList.add('colab-df-spinner');\n",
              "      try {\n",
              "        const charts = await google.colab.kernel.invokeFunction(\n",
              "            'suggestCharts', [key], {});\n",
              "      } catch (error) {\n",
              "        console.error('Error during call to suggestCharts:', error);\n",
              "      }\n",
              "      quickchartButtonEl.classList.remove('colab-df-spinner');\n",
              "      quickchartButtonEl.classList.add('colab-df-quickchart-complete');\n",
              "    }\n",
              "    (() => {\n",
              "      let quickchartButtonEl =\n",
              "        document.querySelector('#df-9e0ab4c0-f192-4ba3-9281-c2d53d983524 button');\n",
              "      quickchartButtonEl.style.display =\n",
              "        google.colab.kernel.accessAllowed ? 'block' : 'none';\n",
              "    })();\n",
              "  </script>\n",
              "</div>\n",
              "    </div>\n",
              "  </div>\n"
            ]
          },
          "metadata": {},
          "execution_count": 3
        }
      ],
      "execution_count": 3,
      "cell_type": "code",
      "source": [
        "#Let's check how the data is distributed\n",
        "wine.head()"
      ]
    },
    {
      "metadata": {
        "_cell_guid": "704f4830-5804-436d-9b78-6ca00f5ae510",
        "_uuid": "af141503385967f92d409c5e111e2724b4c9636f",
        "colab": {
          "base_uri": "https://localhost:8080/"
        },
        "id": "jX8s9HaXeJ2K",
        "outputId": "05f08082-60e8-4569-f504-d64028edc223"
      },
      "outputs": [
        {
          "output_type": "stream",
          "name": "stdout",
          "text": [
            "<class 'pandas.core.frame.DataFrame'>\n",
            "RangeIndex: 1599 entries, 0 to 1598\n",
            "Data columns (total 12 columns):\n",
            " #   Column                Non-Null Count  Dtype  \n",
            "---  ------                --------------  -----  \n",
            " 0   fixed acidity         1599 non-null   float64\n",
            " 1   volatile acidity      1599 non-null   float64\n",
            " 2   citric acid           1599 non-null   float64\n",
            " 3   residual sugar        1599 non-null   float64\n",
            " 4   chlorides             1599 non-null   float64\n",
            " 5   free sulfur dioxide   1599 non-null   float64\n",
            " 6   total sulfur dioxide  1599 non-null   float64\n",
            " 7   density               1599 non-null   float64\n",
            " 8   pH                    1599 non-null   float64\n",
            " 9   sulphates             1599 non-null   float64\n",
            " 10  alcohol               1599 non-null   float64\n",
            " 11  quality               1599 non-null   int64  \n",
            "dtypes: float64(11), int64(1)\n",
            "memory usage: 150.0 KB\n"
          ]
        }
      ],
      "execution_count": 4,
      "cell_type": "code",
      "source": [
        "#Information about the data columns\n",
        "wine.info()"
      ]
    },
    {
      "metadata": {
        "_cell_guid": "f6a9d2eb-e03c-4c8b-8d7f-c0cb735d9ce9",
        "_uuid": "255e8fd04c90eae23164df043ebf16550ecff8fe",
        "colab": {
          "base_uri": "https://localhost:8080/",
          "height": 559
        },
        "id": "9MKx0Gb1eJ2L",
        "outputId": "fd11d779-fb8a-4297-a514-33d5bdc242bd"
      },
      "outputs": [
        {
          "output_type": "execute_result",
          "data": {
            "text/plain": [
              "<Axes: xlabel='quality', ylabel='fixed acidity'>"
            ]
          },
          "metadata": {},
          "execution_count": 5
        },
        {
          "output_type": "display_data",
          "data": {
            "text/plain": [
              "<Figure size 1000x600 with 1 Axes>"
            ],
            "image/png": "[encoded data removed]"
          },
          "metadata": {}
        }
      ],
      "execution_count": 5,
      "cell_type": "code",
      "source": [
        "#Here we see that fixed acidity does not give any specification to classify the quality.\n",
        "fig = plt.figure(figsize = (10,6))\n",
        "sns.barplot(x = 'quality', y = 'fixed acidity', data = wine)"
      ]
    },
    {
      "metadata": {
        "_cell_guid": "7d7355dc-9c09-4e5e-8989-87f903197898",
        "_uuid": "158a576b3fb80cc0978c322663bc5060d8977be0",
        "colab": {
          "base_uri": "https://localhost:8080/",
          "height": 559
        },
        "id": "pFA4LMhreJ2L",
        "outputId": "78a28e01-4535-4fe7-d6db-7c22b3f67502"
      },
      "outputs": [
        {
          "output_type": "execute_result",
          "data": {
            "text/plain": [
              "<Axes: xlabel='quality', ylabel='volatile acidity'>"
            ]
          },
          "metadata": {},
          "execution_count": 6
        },
        {
          "output_type": "display_data",
          "data": {
            "text/plain": [
              "<Figure size 1000x600 with 1 Axes>"
            ],
            "image/png": "[encoded data removed]"
          },
          "metadata": {}
        }
      ],
      "execution_count": 6,
      "cell_type": "code",
      "source": [
        "#Here we see that its quite a downing trend in the volatile acidity as we go higher the quality\n",
        "fig = plt.figure(figsize = (10,6))\n",
        "sns.barplot(x = 'quality', y = 'volatile acidity', data = wine)"
      ]
    },
    {
      "metadata": {
        "_cell_guid": "08f073d3-787b-4956-899b-6bd2bdf3cf91",
        "_uuid": "9600cd337636a7860a908fa36ad8084e230829ca",
        "colab": {
          "base_uri": "https://localhost:8080/",
          "height": 559
        },
        "id": "8k1orxcoeJ2M",
        "outputId": "301c2e76-0c26-487b-f24b-d52f2a30f2b0"
      },
      "outputs": [
        {
          "output_type": "execute_result",
          "data": {
            "text/plain": [
              "<Axes: xlabel='quality', ylabel='citric acid'>"
            ]
          },
          "metadata": {},
          "execution_count": 7
        },
        {
          "output_type": "display_data",
          "data": {
            "text/plain": [
              "<Figure size 1000x600 with 1 Axes>"
            ],
            "image/png": "[encoded data removed]"
          },
          "metadata": {}
        }
      ],
      "execution_count": 7,
      "cell_type": "code",
      "source": [
        "#Composition of citric acid go higher as we go higher in the quality of the wine\n",
        "fig = plt.figure(figsize = (10,6))\n",
        "sns.barplot(x = 'quality', y = 'citric acid', data = wine)"
      ]
    },
    {
      "metadata": {
        "_cell_guid": "7dcb76bc-3436-46bd-9d7f-78ccd436517e",
        "_uuid": "6b017770cef61eefb34b4607218c77f933350389",
        "colab": {
          "base_uri": "https://localhost:8080/",
          "height": 559
        },
        "id": "F32WabV7eJ2N",
        "outputId": "2ddfaeb3-f6ea-441b-b5b8-965c14719c5c"
      },
      "outputs": [
        {
          "output_type": "execute_result",
          "data": {
            "text/plain": [
              "<Axes: xlabel='quality', ylabel='residual sugar'>"
            ]
          },
          "metadata": {},
          "execution_count": 8
        },
        {
          "output_type": "display_data",
          "data": {
            "text/plain": [
              "<Figure size 1000x600 with 1 Axes>"
            ],
            "image/png": "[encoded data removed]"
          },
          "metadata": {}
        }
      ],
      "execution_count": 8,
      "cell_type": "code",
      "source": [
        "fig = plt.figure(figsize = (10,6))\n",
        "sns.barplot(x = 'quality', y = 'residual sugar', data = wine)"
      ]
    },
    {
      "metadata": {
        "_cell_guid": "76463630-67d9-4b07-8076-fba8b49a9921",
        "_uuid": "31fe5d393946e406cbe62d3f4c7951e0b493c454",
        "colab": {
          "base_uri": "https://localhost:8080/",
          "height": 559
        },
        "id": "LCXRid8jeJ2N",
        "outputId": "8cc18225-af18-4222-c5c4-f4c2e02b83b0"
      },
      "outputs": [
        {
          "output_type": "execute_result",
          "data": {
            "text/plain": [
              "<Axes: xlabel='quality', ylabel='chlorides'>"
            ]
          },
          "metadata": {},
          "execution_count": 9
        },
        {
          "output_type": "display_data",
          "data": {
            "text/plain": [
              "<Figure size 1000x600 with 1 Axes>"
            ],
            "image/png": "[encoded data removed]"
          },
          "metadata": {}
        }
      ],
      "execution_count": 9,
      "cell_type": "code",
      "source": [
        "#Composition of chloride also go down as we go higher in the quality of the wine\n",
        "fig = plt.figure(figsize = (10,6))\n",
        "sns.barplot(x = 'quality', y = 'chlorides', data = wine)"
      ]
    },
    {
      "metadata": {
        "_cell_guid": "6abcf7a2-cc7a-4673-a905-6ee0c2cc9e15",
        "_uuid": "6ba9a0dafe8e1042da4dbcaa93706dd46cf3a85c",
        "colab": {
          "base_uri": "https://localhost:8080/",
          "height": 559
        },
        "id": "tqePbZIheJ2O",
        "outputId": "1f3c4055-7b18-4ed4-d24f-e512045d9715"
      },
      "outputs": [
        {
          "output_type": "execute_result",
          "data": {
            "text/plain": [
              "<Axes: xlabel='quality', ylabel='free sulfur dioxide'>"
            ]
          },
          "metadata": {},
          "execution_count": 10
        },
        {
          "output_type": "display_data",
          "data": {
            "text/plain": [
              "<Figure size 1000x600 with 1 Axes>"
            ],
            "image/png": "[encoded data removed]"
          },
          "metadata": {}
        }
      ],
      "execution_count": 10,
      "cell_type": "code",
      "source": [
        "fig = plt.figure(figsize = (10,6))\n",
        "sns.barplot(x = 'quality', y = 'free sulfur dioxide', data = wine)"
      ]
    },
    {
      "metadata": {
        "_cell_guid": "9acea621-2b7b-44b7-a0fa-b984dd8c0e93",
        "_uuid": "d99c6e4033da73cdc9d9977ac045372ff9af1c53",
        "colab": {
          "base_uri": "https://localhost:8080/",
          "height": 559
        },
        "id": "u9R4_GlReJ2O",
        "outputId": "8974e968-cee8-453a-8eda-3df843f99849"
      },
      "outputs": [
        {
          "output_type": "execute_result",
          "data": {
            "text/plain": [
              "<Axes: xlabel='quality', ylabel='total sulfur dioxide'>"
            ]
          },
          "metadata": {},
          "execution_count": 11
        },
        {
          "output_type": "display_data",
          "data": {
            "text/plain": [
              "<Figure size 1000x600 with 1 Axes>"
            ],
            "image/png": "[encoded data removed]"
          },
          "metadata": {}
        }
      ],
      "execution_count": 11,
      "cell_type": "code",
      "source": [
        "fig = plt.figure(figsize = (10,6))\n",
        "sns.barplot(x = 'quality', y = 'total sulfur dioxide', data = wine)"
      ]
    },
    {
      "metadata": {
        "_cell_guid": "bf0b1aa4-8a6c-4f95-80c3-7554b38a9c96",
        "_uuid": "ae9a7496f5c238ec9bb95729b17960c6e48efe35",
        "colab": {
          "base_uri": "https://localhost:8080/",
          "height": 559
        },
        "id": "SV4zEptqeJ2O",
        "outputId": "ae4b7f0f-9c90-4c06-d22d-dcf6553b6e55"
      },
      "outputs": [
        {
          "output_type": "execute_result",
          "data": {
            "text/plain": [
              "<Axes: xlabel='quality', ylabel='sulphates'>"
            ]
          },
          "metadata": {},
          "execution_count": 12
        },
        {
          "output_type": "display_data",
          "data": {
            "text/plain": [
              "<Figure size 1000x600 with 1 Axes>"
            ],
            "image/png": "[encoded data removed]"
          },
          "metadata": {}
        }
      ],
      "execution_count": 12,
      "cell_type": "code",
      "source": [
        "#Sulphates level goes higher with the quality of wine\n",
        "fig = plt.figure(figsize = (10,6))\n",
        "sns.barplot(x = 'quality', y = 'sulphates', data = wine)"
      ]
    },
    {
      "metadata": {
        "_cell_guid": "04f51b1d-6315-44d3-986c-ed82fc996ad3",
        "_uuid": "81efa0b7799cd731aff98cffeaa28c361a7375a5",
        "colab": {
          "base_uri": "https://localhost:8080/",
          "height": 559
        },
        "id": "JsQYvkYmeJ2P",
        "outputId": "5acd01a4-df1a-4554-bd02-b4622961fbf1"
      },
      "outputs": [
        {
          "output_type": "execute_result",
          "data": {
            "text/plain": [
              "<Axes: xlabel='quality', ylabel='alcohol'>"
            ]
          },
          "metadata": {},
          "execution_count": 13
        },
        {
          "output_type": "display_data",
          "data": {
            "text/plain": [
              "<Figure size 1000x600 with 1 Axes>"
            ],
            "image/png": "[encoded data removed]"
          },
          "metadata": {}
        }
      ],
      "execution_count": 13,
      "cell_type": "code",
      "source": [
        "#Alcohol level also goes higher as te quality of wine increases\n",
        "fig = plt.figure(figsize = (10,6))\n",
        "sns.barplot(x = 'quality', y = 'alcohol', data = wine)"
      ]
    },
    {
      "metadata": {
        "_cell_guid": "33e1c5c0-a65a-4918-8d94-db8e4c521d50",
        "collapsed": true,
        "_uuid": "3f082340d1b157391052f0fa20a44aa0105ce987",
        "id": "_-k9vCpQeJ2P"
      },
      "outputs": [],
      "execution_count": 14,
      "cell_type": "code",
      "source": [
        "#Making binary classificaion for the response variable.\n",
        "#Dividing wine as good and bad by giving the limit for the quality\n",
        "bins = (2, 6.5, 8)\n",
        "group_names = ['bad', 'good']\n",
        "wine['quality'] = pd.cut(wine['quality'], bins = bins, labels = group_names)"
      ]
    },
    {
      "metadata": {
        "_cell_guid": "21a15507-cc97-4c40-835b-51fd79f7cdd9",
        "collapsed": true,
        "_uuid": "87127b3c5e9493a9364b3c63401ddb11a51373a1",
        "id": "n_oMtU1eeJ2P"
      },
      "outputs": [],
      "execution_count": 15,
      "cell_type": "code",
      "source": [
        "#Now lets assign a labels to our quality variable\n",
        "label_quality = LabelEncoder()"
      ]
    },
    {
      "metadata": {
        "_cell_guid": "f4c3a886-4b1f-4533-a660-b7ffb66376c2",
        "collapsed": true,
        "_uuid": "a592e2b8ece55e8d5928241eb5b9188226a725bf",
        "id": "bSzb4fvqeJ2Q"
      },
      "outputs": [],
      "execution_count": 16,
      "cell_type": "code",
      "source": [
        "#Bad becomes 0 and good becomes 1\n",
        "wine['quality'] = label_quality.fit_transform(wine['quality'])"
      ]
    },
    {
      "metadata": {
        "_cell_guid": "faa36f65-7e80-44d7-a4f8-10e482cec684",
        "_uuid": "65a97517331f835cade698b594a7376ea7778eeb",
        "colab": {
          "base_uri": "https://localhost:8080/"
        },
        "id": "tU1mInc-eJ2Q",
        "outputId": "83d9152d-4e12-4ab5-9478-bcfd103e79ba"
      },
      "outputs": [
        {
          "output_type": "execute_result",
          "data": {
            "text/plain": [
              "0    1382\n",
              "1     217\n",
              "Name: quality, dtype: int64"
            ]
          },
          "metadata": {},
          "execution_count": 17
        }
      ],
      "execution_count": 17,
      "cell_type": "code",
      "source": [
        "wine['quality'].value_counts()"
      ]
    },
    {
      "metadata": {
        "_cell_guid": "2fe7339e-837e-48c0-b988-a36c89632844",
        "_uuid": "d2a4c7e14dc6b8faa31efd1fcbe4f61b80a7d3e1",
        "colab": {
          "base_uri": "https://localhost:8080/",
          "height": 447
        },
        "id": "KQz7gankeJ2Q",
        "outputId": "7f5c4f91-e888-491c-f566-81bbf15ebd90"
      },
      "outputs": [
        {
          "output_type": "execute_result",
          "data": {
            "text/plain": [
              "<Axes: ylabel='count'>"
            ]
          },
          "metadata": {},
          "execution_count": 18
        },
        {
          "output_type": "display_data",
          "data": {
            "text/plain": [
              "<Figure size 640x480 with 1 Axes>"
            ],
            "image/png": "[encoded data removed]"
          },
          "metadata": {}
        }
      ],
      "execution_count": 18,
      "cell_type": "code",
      "source": [
        "sns.countplot(wine['quality'])"
      ]
    },
    {
      "metadata": {
        "_cell_guid": "ba89712a-ad66-4a92-9214-4e35c3802d59",
        "collapsed": true,
        "_uuid": "b893deb26bb309c914de12aadf9ad8437deb8358",
        "id": "OsNQ8OY6eJ2Q"
      },
      "outputs": [],
      "execution_count": 19,
      "cell_type": "code",
      "source": [
        "#Now seperate the dataset as response variable and feature variabes\n",
        "X = wine.drop('quality', axis = 1)\n",
        "y = wine['quality']"
      ]
    },
    {
      "metadata": {
        "_cell_guid": "d7703d9a-3397-4c42-9b38-6f341cac1cde",
        "collapsed": true,
        "_uuid": "bdfc0f6ba146f947f265fd493e8327366fdb5c9a",
        "id": "8ZQlhFjNeJ2R"
      },
      "outputs": [],
      "execution_count": 20,
      "cell_type": "code",
      "source": [
        "#Train and Test splitting of data\n",
        "X_train, X_test, y_train, y_test = train_test_split(X, y, test_size = 0.2, random_state = 42)"
      ]
    },
    {
      "metadata": {
        "_cell_guid": "cef31289-9cec-4ab1-afea-2ff34c36fec1",
        "collapsed": true,
        "_uuid": "ca68209bcd596b3cfcaf42837e4a6e49b6c12974",
        "id": "EMyi1fZPeJ2R"
      },
      "outputs": [],
      "execution_count": 21,
      "cell_type": "code",
      "source": [
        "#Applying Standard scaling to get optimized result\n",
        "sc = StandardScaler()"
      ]
    },
    {
      "metadata": {
        "_cell_guid": "705b8e8a-a6d3-4e93-8b53-7c677b5b88c4",
        "collapsed": true,
        "_uuid": "7878194b0c4935904c68a88a91e18f9bbbabbda7",
        "id": "95QKPfD9eJ2R"
      },
      "outputs": [],
      "execution_count": 22,
      "cell_type": "code",
      "source": [
        "X_train = sc.fit_transform(X_train)\n",
        "X_test = sc.fit_transform(X_test)"
      ]
    },
    {
      "metadata": {
        "_cell_guid": "f7d2ca14-40fa-4b7c-b902-d47f09214c75",
        "collapsed": true,
        "_uuid": "4c2c2a071bde3b44adf031a6807f51b47f8b5eaa",
        "id": "EMEcsqK_eJ2S"
      },
      "outputs": [],
      "execution_count": 23,
      "cell_type": "code",
      "source": [
        "rfc = RandomForestClassifier(n_estimators=200)\n",
        "rfc.fit(X_train, y_train)\n",
        "pred_rfc = rfc.predict(X_test)"
      ]
    },
    {
      "metadata": {
        "_cell_guid": "1cc15e56-0589-4fa3-a4f1-6f5e7b5547b2",
        "_uuid": "61e8a79a7db4fef289b8d4e3b3dd8e1c01756697",
        "colab": {
          "base_uri": "https://localhost:8080/"
        },
        "id": "WIlgE31keJ2S",
        "outputId": "c0952c01-ce52-4ad1-e010-b84525d9dd4e"
      },
      "outputs": [
        {
          "output_type": "stream",
          "name": "stdout",
          "text": [
            "              precision    recall  f1-score   support\n",
            "\n",
            "           0       0.90      0.97      0.93       273\n",
            "           1       0.67      0.38      0.49        47\n",
            "\n",
            "    accuracy                           0.88       320\n",
            "   macro avg       0.78      0.68      0.71       320\n",
            "weighted avg       0.87      0.88      0.87       320\n",
            "\n"
          ]
        }
      ],
      "execution_count": 24,
      "cell_type": "code",
      "source": [
        "#Let's see how our model performed\n",
        "print(classification_report(y_test, pred_rfc))"
      ]
    },
    {
      "metadata": {
        "_cell_guid": "84334dbd-d36c-4650-87ab-d3e8f73be63c",
        "_uuid": "0fd8c7cd7741be25fd0d5f56d5711e8aaf44ac0f",
        "colab": {
          "base_uri": "https://localhost:8080/"
        },
        "id": "FqJeYuyveJ2S",
        "outputId": "a18bac94-1185-4e9a-e17c-c5d120a6a5ea"
      },
      "outputs": [
        {
          "output_type": "stream",
          "name": "stdout",
          "text": [
            "[[264   9]\n",
            " [ 29  18]]\n"
          ]
        }
      ],
      "execution_count": 25,
      "cell_type": "code",
      "source": [
        "#Confusion matrix for the random forest classification\n",
        "print(confusion_matrix(y_test, pred_rfc))"
      ]
    },
    {
      "metadata": {
        "_cell_guid": "d6835aea-7d7c-4602-b3f3-11e26a37f816",
        "_uuid": "2e1bc3b870d29573b09f1c590ee18011e29af7c3",
        "id": "91t15u9QeJ2T"
      },
      "outputs": [],
      "execution_count": 26,
      "cell_type": "code",
      "source": [
        "sgd = SGDClassifier(penalty=None)\n",
        "sgd.fit(X_train, y_train)\n",
        "pred_sgd = sgd.predict(X_test)"
      ]
    },
    {
      "metadata": {
        "_cell_guid": "ff591dec-adf0-422a-85f6-97c1a27b62f6",
        "_uuid": "c5bdce42ff74ac8c4b6d3eb5b40107b301eec037",
        "colab": {
          "base_uri": "https://localhost:8080/"
        },
        "id": "doqdwSBIeJ2T",
        "outputId": "b2fd4b01-ce26-4388-e361-308a9c07e77d"
      },
      "outputs": [
        {
          "output_type": "stream",
          "name": "stdout",
          "text": [
            "              precision    recall  f1-score   support\n",
            "\n",
            "           0       0.86      0.97      0.91       273\n",
            "           1       0.30      0.06      0.11        47\n",
            "\n",
            "    accuracy                           0.84       320\n",
            "   macro avg       0.58      0.52      0.51       320\n",
            "weighted avg       0.78      0.84      0.79       320\n",
            "\n"
          ]
        }
      ],
      "execution_count": 27,
      "cell_type": "code",
      "source": [
        "print(classification_report(y_test, pred_sgd))"
      ]
    },
    {
      "metadata": {
        "_cell_guid": "2f2ff080-986a-4a64-8f74-8a3afd4e494f",
        "_uuid": "593afdb03d06d44529cba0d8348aced10f1cd276",
        "colab": {
          "base_uri": "https://localhost:8080/"
        },
        "id": "Tzo3urIQeJ2T",
        "outputId": "b7bad08e-44ba-4d71-fe7f-9014b0fbb9d4"
      },
      "outputs": [
        {
          "output_type": "stream",
          "name": "stdout",
          "text": [
            "[[266   7]\n",
            " [ 44   3]]\n"
          ]
        }
      ],
      "execution_count": 28,
      "cell_type": "code",
      "source": [
        "print(confusion_matrix(y_test, pred_sgd))"
      ]
    },
    {
      "metadata": {
        "_cell_guid": "c09c2885-0ae7-424b-8bfb-8d60eeab8910",
        "collapsed": true,
        "_uuid": "432c960068fac4d27d9be14a39ac0fe92933f532",
        "id": "Iu3rXTIMeJ2U"
      },
      "outputs": [],
      "execution_count": 29,
      "cell_type": "code",
      "source": [
        "svc = SVC()\n",
        "svc.fit(X_train, y_train)\n",
        "pred_svc = svc.predict(X_test)"
      ]
    },
    {
      "metadata": {
        "_cell_guid": "a9bd5ed8-fed7-4d12-8f84-ee02b345f7f3",
        "_uuid": "bc3c13a5596baf43c4c40dbddea247e3ee470d31",
        "colab": {
          "base_uri": "https://localhost:8080/"
        },
        "id": "WUNfq0nseJ2U",
        "outputId": "633f25ce-3474-4b16-b854-8e873a23d75a"
      },
      "outputs": [
        {
          "output_type": "stream",
          "name": "stdout",
          "text": [
            "              precision    recall  f1-score   support\n",
            "\n",
            "           0       0.88      0.98      0.93       273\n",
            "           1       0.71      0.26      0.37        47\n",
            "\n",
            "    accuracy                           0.88       320\n",
            "   macro avg       0.80      0.62      0.65       320\n",
            "weighted avg       0.86      0.88      0.85       320\n",
            "\n"
          ]
        }
      ],
      "execution_count": 30,
      "cell_type": "code",
      "source": [
        "print(classification_report(y_test, pred_svc))"
      ]
    },
    {
      "metadata": {
        "_cell_guid": "31bbdf11-00b0-4120-81f6-b7b5ac537554",
        "collapsed": true,
        "_uuid": "0d8fb2a1ae6909c8e44d4b51af8492c194016e4c",
        "id": "VhD5XIMbeJ2a"
      },
      "outputs": [],
      "execution_count": 31,
      "cell_type": "code",
      "source": [
        "#Finding best parameters for our SVC model\n",
        "param = {\n",
        "    'C': [0.1,0.8,0.9,1,1.1,1.2,1.3,1.4],\n",
        "    'kernel':['linear', 'rbf'],\n",
        "    'gamma' :[0.1,0.8,0.9,1,1.1,1.2,1.3,1.4]\n",
        "}\n",
        "grid_svc = GridSearchCV(svc, param_grid=param, scoring='accuracy', cv=10)"
      ]
    },
    {
      "metadata": {
        "_cell_guid": "32cbf4d6-254c-4c55-93e2-448244d89ad9",
        "_uuid": "a581f788a26862911480af8e9c2acb4385d6d79d",
        "colab": {
          "base_uri": "https://localhost:8080/",
          "height": 117
        },
        "id": "XG_eMcJAeJ2a",
        "outputId": "886774b0-554e-4694-aade-bd454851a75c"
      },
      "outputs": [
        {
          "output_type": "execute_result",
          "data": {
            "text/plain": [
              "GridSearchCV(cv=10, estimator=SVC(),\n",
              "             param_grid={'C': [0.1, 0.8, 0.9, 1, 1.1, 1.2, 1.3, 1.4],\n",
              "                         'gamma': [0.1, 0.8, 0.9, 1, 1.1, 1.2, 1.3, 1.4],\n",
              "                         'kernel': ['linear', 'rbf']},\n",
              "             scoring='accuracy')"
            ],
            "text/html": [
              "<style>#sk-container-id-1 {color: black;background-color: white;}#sk-container-id-1 pre{padding: 0;}#sk-container-id-1 div.sk-toggleable {background-color: white;}#sk-container-id-1 label.sk-toggleable__label {cursor: pointer;display: block;width: 100%;margin-bottom: 0;padding: 0.3em;box-sizing: border-box;text-align: center;}#sk-container-id-1 label.sk-toggleable__label-arrow:before {content: \"▸\";float: left;margin-right: 0.25em;color: #696969;}#sk-container-id-1 label.sk-toggleable__label-arrow:hover:before {color: black;}#sk-container-id-1 div.sk-estimator:hover label.sk-toggleable__label-arrow:before {color: black;}#sk-container-id-1 div.sk-toggleable__content {max-height: 0;max-width: 0;overflow: hidden;text-align: left;background-color: #f0f8ff;}#sk-container-id-1 div.sk-toggleable__content pre {margin: 0.2em;color: black;border-radius: 0.25em;background-color: #f0f8ff;}#sk-container-id-1 input.sk-toggleable__control:checked~div.sk-toggleable__content {max-height: 200px;max-width: 100%;overflow: auto;}#sk-container-id-1 input.sk-toggleable__control:checked~label.sk-toggleable__label-arrow:before {content: \"▾\";}#sk-container-id-1 div.sk-estimator input.sk-toggleable__control:checked~label.sk-toggleable__label {background-color: #d4ebff;}#sk-container-id-1 div.sk-label input.sk-toggleable__control:checked~label.sk-toggleable__label {background-color: #d4ebff;}#sk-container-id-1 input.sk-hidden--visually {border: 0;clip: rect(1px 1px 1px 1px);clip: rect(1px, 1px, 1px, 1px);height: 1px;margin: -1px;overflow: hidden;padding: 0;position: absolute;width: 1px;}#sk-container-id-1 div.sk-estimator {font-family: monospace;background-color: #f0f8ff;border: 1px dotted black;border-radius: 0.25em;box-sizing: border-box;margin-bottom: 0.5em;}#sk-container-id-1 div.sk-estimator:hover {background-color: #d4ebff;}#sk-container-id-1 div.sk-parallel-item::after {content: \"\";width: 100%;border-bottom: 1px solid gray;flex-grow: 1;}#sk-container-id-1 div.sk-label:hover label.sk-toggleable__label {background-color: #d4ebff;}#sk-container-id-1 div.sk-serial::before {content: \"\";position: absolute;border-left: 1px solid gray;box-sizing: border-box;top: 0;bottom: 0;left: 50%;z-index: 0;}#sk-container-id-1 div.sk-serial {display: flex;flex-direction: column;align-items: center;background-color: white;padding-right: 0.2em;padding-left: 0.2em;position: relative;}#sk-container-id-1 div.sk-item {position: relative;z-index: 1;}#sk-container-id-1 div.sk-parallel {display: flex;align-items: stretch;justify-content: center;background-color: white;position: relative;}#sk-container-id-1 div.sk-item::before, #sk-container-id-1 div.sk-parallel-item::before {content: \"\";position: absolute;border-left: 1px solid gray;box-sizing: border-box;top: 0;bottom: 0;left: 50%;z-index: -1;}#sk-container-id-1 div.sk-parallel-item {display: flex;flex-direction: column;z-index: 1;position: relative;background-color: white;}#sk-container-id-1 div.sk-parallel-item:first-child::after {align-self: flex-end;width: 50%;}#sk-container-id-1 div.sk-parallel-item:last-child::after {align-self: flex-start;width: 50%;}#sk-container-id-1 div.sk-parallel-item:only-child::after {width: 0;}#sk-container-id-1 div.sk-dashed-wrapped {border: 1px dashed gray;margin: 0 0.4em 0.5em 0.4em;box-sizing: border-box;padding-bottom: 0.4em;background-color: white;}#sk-container-id-1 div.sk-label label {font-family: monospace;font-weight: bold;display: inline-block;line-height: 1.2em;}#sk-container-id-1 div.sk-label-container {text-align: center;}#sk-container-id-1 div.sk-container {/* jupyter's `normalize.less` sets `[hidden] { display: none; }` but bootstrap.min.css set `[hidden] { display: none !important; }` so we also need the `!important` here to be able to override the default hidden behavior on the sphinx rendered scikit-learn.org. See: https://github.com/scikit-learn/scikit-learn/issues/21755 */display: inline-block !important;position: relative;}#sk-container-id-1 div.sk-text-repr-fallback {display: none;}</style><div id=\"sk-container-id-1\" class=\"sk-top-container\"><div class=\"sk-text-repr-fallback\"><pre>GridSearchCV(cv=10, estimator=SVC(),\n",
              "             param_grid={&#x27;C&#x27;: [0.1, 0.8, 0.9, 1, 1.1, 1.2, 1.3, 1.4],\n",
              "                         &#x27;gamma&#x27;: [0.1, 0.8, 0.9, 1, 1.1, 1.2, 1.3, 1.4],\n",
              "                         &#x27;kernel&#x27;: [&#x27;linear&#x27;, &#x27;rbf&#x27;]},\n",
              "             scoring=&#x27;accuracy&#x27;)</pre><b>In a Jupyter environment, please rerun this cell to show the HTML representation or trust the notebook. <br />On GitHub, the HTML representation is unable to render, please try loading this page with nbviewer.org.</b></div><div class=\"sk-container\" hidden><div class=\"sk-item sk-dashed-wrapped\"><div class=\"sk-label-container\"><div class=\"sk-label sk-toggleable\"><input class=\"sk-toggleable__control sk-hidden--visually\" id=\"sk-estimator-id-1\" type=\"checkbox\" ><label for=\"sk-estimator-id-1\" class=\"sk-toggleable__label sk-toggleable__label-arrow\">GridSearchCV</label><div class=\"sk-toggleable__content\"><pre>GridSearchCV(cv=10, estimator=SVC(),\n",
              "             param_grid={&#x27;C&#x27;: [0.1, 0.8, 0.9, 1, 1.1, 1.2, 1.3, 1.4],\n",
              "                         &#x27;gamma&#x27;: [0.1, 0.8, 0.9, 1, 1.1, 1.2, 1.3, 1.4],\n",
              "                         &#x27;kernel&#x27;: [&#x27;linear&#x27;, &#x27;rbf&#x27;]},\n",
              "             scoring=&#x27;accuracy&#x27;)</pre></div></div></div><div class=\"sk-parallel\"><div class=\"sk-parallel-item\"><div class=\"sk-item\"><div class=\"sk-label-container\"><div class=\"sk-label sk-toggleable\"><input class=\"sk-toggleable__control sk-hidden--visually\" id=\"sk-estimator-id-2\" type=\"checkbox\" ><label for=\"sk-estimator-id-2\" class=\"sk-toggleable__label sk-toggleable__label-arrow\">estimator: SVC</label><div class=\"sk-toggleable__content\"><pre>SVC()</pre></div></div></div><div class=\"sk-serial\"><div class=\"sk-item\"><div class=\"sk-estimator sk-toggleable\"><input class=\"sk-toggleable__control sk-hidden--visually\" id=\"sk-estimator-id-3\" type=\"checkbox\" ><label for=\"sk-estimator-id-3\" class=\"sk-toggleable__label sk-toggleable__label-arrow\">SVC</label><div class=\"sk-toggleable__content\"><pre>SVC()</pre></div></div></div></div></div></div></div></div></div></div>"
            ]
          },
          "metadata": {},
          "execution_count": 32
        }
      ],
      "execution_count": 32,
      "cell_type": "code",
      "source": [
        "grid_svc.fit(X_train, y_train)"
      ]
    },
    {
      "metadata": {
        "_cell_guid": "55a3e439-c2e3-426e-a1a5-cd653bf8bfa9",
        "_uuid": "0d70efd0eb41271afb4ac50291aa83c6791847a3",
        "colab": {
          "base_uri": "https://localhost:8080/"
        },
        "id": "j1XLUXTSeJ2a",
        "outputId": "b85ede13-b468-490b-aeb4-9f6fd0648ca1"
      },
      "outputs": [
        {
          "output_type": "execute_result",
          "data": {
            "text/plain": [
              "{'C': 1.2, 'gamma': 0.9, 'kernel': 'rbf'}"
            ]
          },
          "metadata": {},
          "execution_count": 33
        }
      ],
      "execution_count": 33,
      "cell_type": "code",
      "source": [
        "#Best parameters for our svc model\n",
        "grid_svc.best_params_"
      ]
    },
    {
      "metadata": {
        "_cell_guid": "362ff8bd-7cf3-48af-a93a-499b52dab0d7",
        "_uuid": "dd4a0ac5ef6c17e9e2312a03df0d82ca088c40f2",
        "colab": {
          "base_uri": "https://localhost:8080/"
        },
        "id": "iJgdO9tmeJ2a",
        "outputId": "29c4a59c-1d73-4ff5-e47f-62f7405d4bc1"
      },
      "outputs": [
        {
          "output_type": "stream",
          "name": "stdout",
          "text": [
            "              precision    recall  f1-score   support\n",
            "\n",
            "           0       0.90      0.99      0.94       273\n",
            "           1       0.89      0.34      0.49        47\n",
            "\n",
            "    accuracy                           0.90       320\n",
            "   macro avg       0.89      0.67      0.72       320\n",
            "weighted avg       0.90      0.90      0.88       320\n",
            "\n"
          ]
        }
      ],
      "execution_count": 34,
      "cell_type": "code",
      "source": [
        "#Let's run our SVC again with the best parameters.\n",
        "svc2 = SVC(C = 1.2, gamma =  0.9, kernel= 'rbf')\n",
        "svc2.fit(X_train, y_train)\n",
        "pred_svc2 = svc2.predict(X_test)\n",
        "print(classification_report(y_test, pred_svc2))"
      ]
    },
    {
      "metadata": {
        "_cell_guid": "a5507be9-a3eb-4bba-b8d5-928d015faadf",
        "_uuid": "24a7f7dc1bf59eaae6e5ea5a6f61130664fcd260",
        "colab": {
          "base_uri": "https://localhost:8080/"
        },
        "id": "ruOMsFA-eJ2b",
        "outputId": "19259819-fe81-4bf6-f8cf-5e876d0a9495"
      },
      "outputs": [
        {
          "output_type": "execute_result",
          "data": {
            "text/plain": [
              "0.9132320374015748"
            ]
          },
          "metadata": {},
          "execution_count": 35
        }
      ],
      "execution_count": 35,
      "cell_type": "code",
      "source": [
        "#Now lets try to do some evaluation for random forest model using cross validation.\n",
        "rfc_eval = cross_val_score(estimator = rfc, X = X_train, y = y_train, cv = 10)\n",
        "rfc_eval.mean()"
      ]
    }
  ]
}